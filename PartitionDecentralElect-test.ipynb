{
 "cells": [
  {
   "cell_type": "code",
   "execution_count": 4,
   "metadata": {},
   "outputs": [],
   "source": [
    "from web3 import Web3, HTTPProvider\n",
    "import random \n",
    "\n",
    "random.seed(10)\n",
    "contract_manager = Web3.to_checksum_address(0xf421B69A6c4c3D911Bb3A4A8CFF29262618fC4B7)"
   ]
  },
  {
   "cell_type": "code",
   "execution_count": 5,
   "metadata": {},
   "outputs": [],
   "source": [
    "# Connect to the chain\n",
    "\n",
    "from web3.middleware import geth_poa_middleware\n",
    "\n",
    "w3 = Web3(HTTPProvider('http://localhost:7545'))\n",
    "w3.middleware_onion.inject(geth_poa_middleware, layer=0)\n",
    "w3.eth.default_account = contract_manager"
   ]
  },
  {
   "cell_type": "code",
   "execution_count": 6,
   "metadata": {},
   "outputs": [
    {
     "name": "stdout",
     "output_type": "stream",
     "text": [
      "Contract Address: 0xB47F24A2cADCCFA56A9df8625E199c3E67A78d7b\n"
     ]
    }
   ],
   "source": [
    "# New a DecentralElect Contract in the chain\n",
    "\n",
    "from DecentralElect import PartitionDecentralElectContract\n",
    "import json\n",
    "\n",
    "import os\n",
    "\n",
    "decentral_elect = PartitionDecentralElectContract(w3)\n",
    "tx_rcpt = decentral_elect.deploy(contract_manager)\n",
    "print('Contract Address:', tx_rcpt.contractAddress)\n"
   ]
  },
  {
   "cell_type": "code",
   "execution_count": 7,
   "metadata": {},
   "outputs": [
    {
     "name": "stdout",
     "output_type": "stream",
     "text": [
      "Status: Unopened\n",
      "Status: Registration\n",
      "[(0, 'Apple', 'Red', 0), (1, 'Grape', 'Purple', 0), (2, 'Orange', 'Orange', 0), (3, 'Guava', 'Green', 0), (4, 'Banana', 'Yellow', 0)]\n",
      "Status: Unopened\n",
      "Status: Registration\n",
      "[(0, 'Apple', 'Red', 0), (1, 'Grape', 'Purple', 0), (2, 'Orange', 'Orange', 0), (3, 'Guava', 'Green', 0), (4, 'Banana', 'Yellow', 0)]\n",
      "Status: Unopened\n",
      "Status: Registration\n",
      "[(0, 'Apple', 'Red', 0), (1, 'Grape', 'Purple', 0), (2, 'Orange', 'Orange', 0), (3, 'Guava', 'Green', 0), (4, 'Banana', 'Yellow', 0)]\n",
      "Status: Unopened\n",
      "Status: Registration\n",
      "[(0, 'Apple', 'Red', 0), (1, 'Grape', 'Purple', 0), (2, 'Orange', 'Orange', 0), (3, 'Guava', 'Green', 0), (4, 'Banana', 'Yellow', 0)]\n",
      "Status: Unopened\n",
      "Status: Registration\n",
      "[(0, 'Apple', 'Red', 0), (1, 'Grape', 'Purple', 0), (2, 'Orange', 'Orange', 0), (3, 'Guava', 'Green', 0), (4, 'Banana', 'Yellow', 0)]\n"
     ]
    }
   ],
   "source": [
    "# Initilize the vote\n",
    "# New the vote, and add the subject and candidates to it.\n",
    "\n",
    "election_list =[\n",
    "    {\n",
    "        'id': 0, \n",
    "        'subject': 'What fruit do you like?',\n",
    "        'candidates': [\n",
    "            {'name': 'Apple',\n",
    "             'description': 'Red'}, \n",
    "            {'name': 'Grape',\n",
    "             'description': 'Purple'}, \n",
    "            {'name': 'Orange',\n",
    "             'description': 'Orange'}, \n",
    "            {'name': 'Guava',\n",
    "             'description': 'Green'}, \n",
    "            {'name': 'Banana',\n",
    "             'description': 'Yellow'}\n",
    "            ]\n",
    "    },\n",
    "    {\n",
    "        'id': 1, \n",
    "        'subject': 'What fruit do you like?',\n",
    "        'candidates': [\n",
    "            {'name': 'Apple',\n",
    "             'description': 'Red'}, \n",
    "            {'name': 'Grape',\n",
    "             'description': 'Purple'}, \n",
    "            {'name': 'Orange',\n",
    "             'description': 'Orange'}, \n",
    "            {'name': 'Guava',\n",
    "             'description': 'Green'}, \n",
    "            {'name': 'Banana',\n",
    "             'description': 'Yellow'}\n",
    "            ]\n",
    "    },\n",
    "    {\n",
    "        'id': 2, \n",
    "        'subject': 'What fruit do you like?',\n",
    "        'candidates': [\n",
    "            {'name': 'Apple',\n",
    "             'description': 'Red'}, \n",
    "            {'name': 'Grape',\n",
    "             'description': 'Purple'}, \n",
    "            {'name': 'Orange',\n",
    "             'description': 'Orange'}, \n",
    "            {'name': 'Guava',\n",
    "             'description': 'Green'}, \n",
    "            {'name': 'Banana',\n",
    "             'description': 'Yellow'}\n",
    "            ]\n",
    "    },\n",
    "    {\n",
    "        'id': 3, \n",
    "        'subject': 'What fruit do you like?',\n",
    "        'candidates': [\n",
    "            {'name': 'Apple',\n",
    "             'description': 'Red'}, \n",
    "            {'name': 'Grape',\n",
    "             'description': 'Purple'}, \n",
    "            {'name': 'Orange',\n",
    "             'description': 'Orange'}, \n",
    "            {'name': 'Guava',\n",
    "             'description': 'Green'}, \n",
    "            {'name': 'Banana',\n",
    "             'description': 'Yellow'}\n",
    "            ]\n",
    "    },\n",
    "    {\n",
    "        'id': 4, \n",
    "        'subject': 'What fruit do you like?',\n",
    "        'candidates': [\n",
    "            {'name': 'Apple',\n",
    "             'description': 'Red'}, \n",
    "            {'name': 'Grape',\n",
    "             'description': 'Purple'}, \n",
    "            {'name': 'Orange',\n",
    "             'description': 'Orange'}, \n",
    "            {'name': 'Guava',\n",
    "             'description': 'Green'}, \n",
    "            {'name': 'Banana',\n",
    "             'description': 'Yellow'}\n",
    "            ]\n",
    "    },\n",
    "]\n",
    "\n",
    "for election in election_list:\n",
    "    print('Status:', decentral_elect.get_status(election['id']))\n",
    "    tx_rcpt = decentral_elect.create_election(identifier = election['id'], subject = election['subject'])\n",
    "    print('Status:', decentral_elect.get_status(election['id']))\n",
    "\n",
    "    for candidate in election['candidates']:\n",
    "        decentral_elect.set_candidate(identifier = election['id'], name = candidate['name'], description = candidate['description'])\n",
    "\n",
    "    tx_rcpt = decentral_elect.get_candidates(election['id'])\n",
    "    print(tx_rcpt)\n"
   ]
  },
  {
   "cell_type": "code",
   "execution_count": 8,
   "metadata": {},
   "outputs": [],
   "source": [
    "from DecentralElect import Voter\n",
    "\n",
    "register_list = [\n",
    "    {\n",
    "        'id': 0,\n",
    "        'registers' : [Voter() for _ in range(10)]\n",
    "    },\n",
    "    # {\n",
    "    #     'id': 1,\n",
    "    #     'registers' : [Voter() for _ in range(15000)]\n",
    "    # },\n",
    "    # {\n",
    "    #     'id': 2,\n",
    "    #     'registers' : [Voter() for _ in range(20000)]\n",
    "    # },\n",
    "    # {\n",
    "    #     'id': 3,\n",
    "    #     'registers' : [Voter() for _ in range(25000)]\n",
    "    # },\n",
    "    # {\n",
    "    #     'id': 4,\n",
    "    #     'registers' : [Voter() for _ in range(30000)]\n",
    "    # },\n",
    "]\n",
    "\n",
    "for election in register_list:\n",
    "    count = 0\n",
    "    for register in election['registers']:\n",
    "        decentral_elect.register_voter(election['id'], register.public_key[0].n, register.public_key[1].n)\n",
    "        if not decentral_elect.check_if_registered(election['id'], register.public_key[0].n):\n",
    "            print('Error', register)\n",
    "        # tx_rcpt = decentral_elect.get_constituency()"
   ]
  },
  {
   "cell_type": "code",
   "execution_count": 9,
   "metadata": {},
   "outputs": [
    {
     "name": "stdout",
     "output_type": "stream",
     "text": [
      "Progress:10/10\n"
     ]
    }
   ],
   "source": [
    "for election in register_list:\n",
    "    progress, length = decentral_elect.get_cluster_progress(election['id'])\n",
    "    \n",
    "    while(progress < length):\n",
    "        decentral_elect.cluser_voters(election['id'])\n",
    "        progress, length = decentral_elect.get_cluster_progress(election['id'])\n",
    "        print('Progress:{}/{}'.format(progress, length))"
   ]
  },
  {
   "cell_type": "code",
   "execution_count": 12,
   "metadata": {},
   "outputs": [
    {
     "name": "stdout",
     "output_type": "stream",
     "text": [
      "Status: Vote\n",
      "Voted\n",
      "Voted\n",
      "Voted\n",
      "Voted\n",
      "Voted\n"
     ]
    }
   ],
   "source": [
    "from DecentralElect.uaosring import uaosring_sign\n",
    "from os import urandom\n",
    "from DecentralElect import hash_vote\n",
    "from DecentralElect.utils import bytes_to_int\n",
    "from py_ecc.bn128 import FQ\n",
    "from DecentralElect.linkable_ring_signature import LinkableRingSignature\n",
    "import random\n",
    "import string\n",
    "\n",
    "def generate_random_strings(num_strings:int, leading_numbers:list[int]):\n",
    "    random_strings = []\n",
    "\n",
    "    for _ in range(num_strings):\n",
    "        leading_number = random.choice(leading_numbers)\n",
    "        \n",
    "        rest_of_string = ''.join(random.choices(string.ascii_letters + string.digits, k=20))\n",
    "    \n",
    "        random_string = str(leading_number) + '_' + rest_of_string\n",
    "        random_strings.append(random_string)\n",
    "\n",
    "    return random_strings\n",
    "\n",
    "voting_list = register_list\n",
    "voting_list[0]['vote'] = generate_random_strings(5, [0 ,1, 2, 3, 4])\n",
    "# voting_list[1]['vote'] = generate_random_strings(15000, [0 ,1, 2, 3, 4])\n",
    "# voting_list[2]['vote'] = generate_random_strings(20000, [0 ,1, 2, 3, 4])\n",
    "# voting_list[3]['vote'] = generate_random_strings(25000, [0 ,1, 2, 3, 4])\n",
    "# voting_list[4]['vote'] = generate_random_strings(30000, [0 ,1, 2, 3, 4])\n",
    "\n",
    "def pkeys_type_transform(pkeys:list[FQ]) -> list:\n",
    "    result = []\n",
    "    for x, y in pkeys:\n",
    "        result.append((FQ(x), FQ(y)))\n",
    "\n",
    "    return result\n",
    "\n",
    "def pack_vote_in_random32(vote: bytes) -> bytes:\n",
    "    assert(len(vote) <= 32)\n",
    "    return urandom(32 - len(vote)) + vote\n",
    "\n",
    "for election in voting_list:\n",
    "    decentral_elect.start_vote(election['id'])\n",
    "    print('Status:', decentral_elect.get_status(election['id']))\n",
    "\n",
    "    for ballot, voter in zip(election['vote'], election['registers']):\n",
    "        constituency = decentral_elect.get_constituency(election['id'], voter.public_key[0].n)\n",
    "        pkeys = decentral_elect.get_registered_pkeys(election['id'], constituency)\n",
    "        pkeys = pkeys_type_transform(pkeys)\n",
    "\n",
    "        message = hash_vote(ballot)\n",
    "        signature = uaosring_sign(pkeys, (voter.public_key, voter.private_key), message)\n",
    "\n",
    "        linkable_ring_signature = LinkableRingSignature(\n",
    "            pkeys = pkeys, \n",
    "            tag = signature[1], \n",
    "            ring = signature[2], \n",
    "            seed = signature[3], \n",
    "            message = message\n",
    "            )\n",
    "        decentral_elect.vote(election['id'], constituency, linkable_ring_signature)\n",
    "\n",
    "        if (decentral_elect.check_if_voted(election['id'], linkable_ring_signature.tag[0].n)):\n",
    "            print('Voted')\n",
    "        else:\n",
    "            print(\"UnVoted\")\n"
   ]
  },
  {
   "cell_type": "code",
   "execution_count": 43,
   "metadata": {},
   "outputs": [
    {
     "name": "stdout",
     "output_type": "stream",
     "text": [
      "UnVoted\n"
     ]
    }
   ],
   "source": [
    "message = hash_vote('2_apple')\n",
    "v = voting_list[0]['registers'][3]\n",
    "identifier = 0\n",
    "constituency = decentral_elect.get_constituency(identifier, v.public_key[0].n)\n",
    "pkeys = decentral_elect.get_registered_pkeys(identifier, constituency)\n",
    "pkeys = pkeys_type_transform(pkeys)\n",
    "\n",
    "signature = uaosring_sign(pkeys, (v.public_key, v.private_key), message)\n",
    "# signature[2][0] += 3\n",
    "\n",
    "\n",
    "linkable_ring_signature = LinkableRingSignature(\n",
    "    pkeys = pkeys, \n",
    "    tag = signature[1], \n",
    "    ring = signature[2], \n",
    "    seed = signature[3], \n",
    "    message = message\n",
    "    )\n",
    "\n",
    "linkable_ring_signature.tag[0].n = 8057056557119254816153517554109639926615808794153727907915446913944040765669\n",
    "linkable_ring_signature.tag[1].n = 5681741858004897999563955774191376641471322585285955070118289987066955470434\n",
    "\n",
    "decentral_elect.vote(identifier, constituency, linkable_ring_signature)\n",
    "\n",
    "if (decentral_elect.check_if_voted(identifier, linkable_ring_signature.tag[0].n)):\n",
    "    print('Voted')\n",
    "else:\n",
    "    print(\"UnVoted\")\n"
   ]
  },
  {
   "cell_type": "code",
   "execution_count": 41,
   "metadata": {},
   "outputs": [
    {
     "name": "stdout",
     "output_type": "stream",
     "text": [
      "(8057056557119254816153517554109639926615808794153727907915446913944040765669, 5681741858004897999563955774191376641471322585285955070118289987066955470434)\n"
     ]
    }
   ],
   "source": [
    "from DecentralElect.altbn128 import *\n",
    "from DecentralElect.utils import *\n",
    "\n",
    "\n",
    "a = Voter()\n",
    "\n",
    "def pkeys_hash_calculator(pkeys):\n",
    "\tassert len(pkeys) > 0\n",
    "\thash_acc = hashs(pkeys[0][0].n)\n",
    "\tfor pk in pkeys[1:len(pkeys)]:\n",
    "\t\thash_acc = hashs(hash_acc, pk[0].n)\n",
    "\treturn hash_acc\n",
    "\n",
    "L = hashtopoint(pkeys_hash_calculator(pkeys))\n",
    "T = multiply(L, a.private_key)\n",
    "\n",
    "print(T)"
   ]
  },
  {
   "cell_type": "code",
   "execution_count": null,
   "metadata": {},
   "outputs": [],
   "source": []
  },
  {
   "cell_type": "code",
   "execution_count": 9,
   "metadata": {},
   "outputs": [],
   "source": [
    "# verify ballot\n",
    "from DecentralElect.utils import int_to_big_endian\n",
    "\n",
    "result_list = voting_list\n",
    "\n",
    "for election in result_list:\n",
    "    decentral_elect.stop_vote(election['id'])\n",
    "\n",
    "    # ballots = decentral_elect.get_ballots(election['id'])\n",
    "\n",
    "    for ballot in election['vote']:\n",
    "        decentral_elect.verify_ballot(election['id'], ballot)"
   ]
  },
  {
   "cell_type": "code",
   "execution_count": 10,
   "metadata": {},
   "outputs": [
    {
     "name": "stdout",
     "output_type": "stream",
     "text": [
      "0\n",
      "(0, 'Apple', 'Red', 2)\n",
      "(1, 'Grape', 'Purple', 2)\n",
      "(2, 'Orange', 'Orange', 3)\n",
      "(3, 'Guava', 'Green', 3)\n",
      "(4, 'Banana', 'Yellow', 0)\n"
     ]
    }
   ],
   "source": [
    "# Show result\n",
    "\n",
    "for election in result_list:\n",
    "    candidates = decentral_elect.get_candidates(election['id'])\n",
    "    print(election['id'])\n",
    "    for candidate in candidates:\n",
    "        print(candidate)"
   ]
  },
  {
   "cell_type": "code",
   "execution_count": 11,
   "metadata": {},
   "outputs": [
    {
     "name": "stdout",
     "output_type": "stream",
     "text": [
      "14710965\n"
     ]
    }
   ],
   "source": [
    "print(decentral_elect.voter_gas_spend + decentral_elect.manager_gas_spend)"
   ]
  },
  {
   "cell_type": "code",
   "execution_count": 3,
   "metadata": {},
   "outputs": [
    {
     "name": "stdout",
     "output_type": "stream",
     "text": [
      "Private: 4668143976994134550021904368266290461569141490433399027785177489270673113786\n",
      "Public: (6976498423903177657941087729755215471712710429741876987755298396731327586177, 19962525593850070673721010759498457750839098993983563732690242872569236366549)\n",
      "Private: 14075061314077086207845970169164224906288783062399247027778967797315681463048\n",
      "Public: (13800384787206396823867946942174405058636793170637014147152501483492582420055, 11546564977006419542926248029165476053728284261558833467247652695425759726232)\n"
     ]
    }
   ],
   "source": [
    "from DecentralElect import Voter\n",
    "\n",
    "print(Voter())\n",
    "print(Voter())"
   ]
  },
  {
   "cell_type": "code",
   "execution_count": null,
   "metadata": {},
   "outputs": [],
   "source": []
  }
 ],
 "metadata": {
  "kernelspec": {
   "display_name": "badminton",
   "language": "python",
   "name": "python3"
  },
  "language_info": {
   "codemirror_mode": {
    "name": "ipython",
    "version": 3
   },
   "file_extension": ".py",
   "mimetype": "text/x-python",
   "name": "python",
   "nbconvert_exporter": "python",
   "pygments_lexer": "ipython3",
   "version": "3.10.14"
  }
 },
 "nbformat": 4,
 "nbformat_minor": 2
}
