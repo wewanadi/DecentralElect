{
 "cells": [
  {
   "cell_type": "code",
   "execution_count": 1,
   "metadata": {},
   "outputs": [],
   "source": [
    "from web3 import Web3, HTTPProvider\n",
    "import random \n",
    "\n",
    "random.seed(10)\n",
    "\n",
    "contract_manager = Web3.to_checksum_address(0x889cD30a82626155da8804cB5532f686196E1eA0)"
   ]
  },
  {
   "cell_type": "code",
   "execution_count": 2,
   "metadata": {},
   "outputs": [],
   "source": [
    "# Connect to the chain\n",
    "\n",
    "from web3.middleware import geth_poa_middleware\n",
    "\n",
    "w3 = Web3(HTTPProvider('http://localhost:7545'))\n",
    "w3.middleware_onion.inject(geth_poa_middleware, layer=0)\n",
    "w3.eth.default_account = contract_manager"
   ]
  },
  {
   "cell_type": "code",
   "execution_count": 3,
   "metadata": {},
   "outputs": [
    {
     "name": "stdout",
     "output_type": "stream",
     "text": [
      "Contract Address: 0x3b407e42e7119d13b9a13C11eA81322159fb5887\n"
     ]
    }
   ],
   "source": [
    "# New a DecentralElect Contract in the chain\n",
    "\n",
    "from DecentralElect import NaiiveElectContract\n",
    "\n",
    "vs = NaiiveElectContract(w3)\n",
    "tx_rcpt = vs.deploy(contract_manager)\n",
    "print('Contract Address:', tx_rcpt.contractAddress)"
   ]
  },
  {
   "cell_type": "code",
   "execution_count": 4,
   "metadata": {},
   "outputs": [
    {
     "name": "stdout",
     "output_type": "stream",
     "text": [
      "Status: Unopened\n",
      "Status: Registration\n",
      "[(0, 'Apple', 'Red', 0), (1, 'Grape', 'Purple', 0), (2, 'Orange', 'Orange', 0), (3, 'Guava', 'Green', 0), (4, 'Banana', 'Yellow', 0)]\n",
      "Status: Unopened\n",
      "Status: Registration\n",
      "[(0, 'Apple', 'Red', 0), (1, 'Grape', 'Purple', 0), (2, 'Orange', 'Orange', 0), (3, 'Guava', 'Green', 0), (4, 'Banana', 'Yellow', 0)]\n",
      "Status: Unopened\n",
      "Status: Registration\n",
      "[(0, 'Apple', 'Red', 0), (1, 'Grape', 'Purple', 0), (2, 'Orange', 'Orange', 0), (3, 'Guava', 'Green', 0), (4, 'Banana', 'Yellow', 0)]\n",
      "Status: Unopened\n",
      "Status: Registration\n",
      "[(0, 'Apple', 'Red', 0), (1, 'Grape', 'Purple', 0), (2, 'Orange', 'Orange', 0), (3, 'Guava', 'Green', 0), (4, 'Banana', 'Yellow', 0)]\n",
      "Status: Unopened\n",
      "Status: Registration\n",
      "[(0, 'Apple', 'Red', 0), (1, 'Grape', 'Purple', 0), (2, 'Orange', 'Orange', 0), (3, 'Guava', 'Green', 0), (4, 'Banana', 'Yellow', 0)]\n"
     ]
    }
   ],
   "source": [
    "# Initilize the vote\n",
    "# New the vote, and add the subject and candidates to it.\n",
    "\n",
    "election_list =[\n",
    "    {\n",
    "        'id': 0, \n",
    "        'subject': 'What fruit do you like?',\n",
    "        'candidates': [\n",
    "            {'name': 'Apple',\n",
    "             'description': 'Red'}, \n",
    "            {'name': 'Grape',\n",
    "             'description': 'Purple'}, \n",
    "            {'name': 'Orange',\n",
    "             'description': 'Orange'}, \n",
    "            {'name': 'Guava',\n",
    "             'description': 'Green'}, \n",
    "            {'name': 'Banana',\n",
    "             'description': 'Yellow'}\n",
    "            ]\n",
    "    },\n",
    "    {\n",
    "        'id': 1, \n",
    "        'subject': 'What fruit do you like?',\n",
    "        'candidates': [\n",
    "            {'name': 'Apple',\n",
    "             'description': 'Red'}, \n",
    "            {'name': 'Grape',\n",
    "             'description': 'Purple'}, \n",
    "            {'name': 'Orange',\n",
    "             'description': 'Orange'}, \n",
    "            {'name': 'Guava',\n",
    "             'description': 'Green'}, \n",
    "            {'name': 'Banana',\n",
    "             'description': 'Yellow'}\n",
    "            ]\n",
    "    },\n",
    "    {\n",
    "        'id': 2, \n",
    "        'subject': 'What fruit do you like?',\n",
    "        'candidates': [\n",
    "            {'name': 'Apple',\n",
    "             'description': 'Red'}, \n",
    "            {'name': 'Grape',\n",
    "             'description': 'Purple'}, \n",
    "            {'name': 'Orange',\n",
    "             'description': 'Orange'}, \n",
    "            {'name': 'Guava',\n",
    "             'description': 'Green'}, \n",
    "            {'name': 'Banana',\n",
    "             'description': 'Yellow'}\n",
    "            ]\n",
    "    },\n",
    "    {\n",
    "        'id': 3, \n",
    "        'subject': 'What fruit do you like?',\n",
    "        'candidates': [\n",
    "            {'name': 'Apple',\n",
    "             'description': 'Red'}, \n",
    "            {'name': 'Grape',\n",
    "             'description': 'Purple'}, \n",
    "            {'name': 'Orange',\n",
    "             'description': 'Orange'}, \n",
    "            {'name': 'Guava',\n",
    "             'description': 'Green'}, \n",
    "            {'name': 'Banana',\n",
    "             'description': 'Yellow'}\n",
    "            ]\n",
    "    },\n",
    "    {\n",
    "        'id': 4, \n",
    "        'subject': 'What fruit do you like?',\n",
    "        'candidates': [\n",
    "            {'name': 'Apple',\n",
    "             'description': 'Red'}, \n",
    "            {'name': 'Grape',\n",
    "             'description': 'Purple'}, \n",
    "            {'name': 'Orange',\n",
    "             'description': 'Orange'}, \n",
    "            {'name': 'Guava',\n",
    "             'description': 'Green'}, \n",
    "            {'name': 'Banana',\n",
    "             'description': 'Yellow'}\n",
    "            ]\n",
    "    },\n",
    "]\n",
    "\n",
    "for election in election_list:\n",
    "    print('Status:', vs.get_status(election['id']))\n",
    "    tx_rcpt = vs.create_election(identifier = election['id'], subject = election['subject'])\n",
    "    print('Status:', vs.get_status(election['id']))\n",
    "\n",
    "    for candidate in election['candidates']:\n",
    "        vs.set_candidate(identifier = election['id'], name = candidate['name'], description = candidate['description'])\n",
    "\n",
    "    tx_rcpt = vs.get_candidates(election['id'])\n",
    "    print(tx_rcpt)\n"
   ]
  },
  {
   "cell_type": "code",
   "execution_count": 5,
   "metadata": {},
   "outputs": [],
   "source": [
    "from DecentralElect import Voter\n",
    "\n",
    "register_list = [\n",
    "    {\n",
    "        'id': 0,\n",
    "        'registers' : [Voter() for _ in range(10)]\n",
    "    },\n",
    "    # {\n",
    "    #     'id': 1,\n",
    "    #     'registers' : [Voter() for _ in range(20)]\n",
    "    # },\n",
    "    # {\n",
    "    #     'id': 2,\n",
    "    #     'registers' : [Voter() for _ in range(30)]\n",
    "    # },\n",
    "    # {\n",
    "    #     'id': 3,\n",
    "    #     'registers' : [Voter() for _ in range(40)]\n",
    "    # },\n",
    "    # {\n",
    "    #     'id': 4,\n",
    "    #     'registers' : [Voter() for _ in range(50)]\n",
    "    # },\n",
    "]\n",
    "\n",
    "for election in register_list:\n",
    "    for register in election['registers']:\n",
    "        # print(vs.check_if_registered(election['id'], register.public_key[0].n))\n",
    "        tx_rcpt = vs.register_voter(election['id'], register.public_key[0].n, register.public_key[1].n)\n",
    "        if not vs.check_if_registered(election['id'], register.public_key[0].n):\n",
    "            print('Error', register)\n",
    "            \n",
    "\n",
    "    # tx_rcpt = vs.get_registered_pkeys(election['id'])\n",
    "    # print('Election', election['id'], ':', len(tx_rcpt), 'registed')\n",
    "    # print(tx_rcpt)\n",
    "            "
   ]
  },
  {
   "cell_type": "code",
   "execution_count": 6,
   "metadata": {},
   "outputs": [
    {
     "name": "stdout",
     "output_type": "stream",
     "text": [
      "Status: Vote\n",
      "Voted\n",
      "Voted\n",
      "Voted\n",
      "Voted\n",
      "Voted\n",
      "Voted\n",
      "Voted\n",
      "Voted\n",
      "Voted\n",
      "Voted\n"
     ]
    }
   ],
   "source": [
    "from DecentralElect.uaosring import uaosring_sign\n",
    "from DecentralElect import hash_vote\n",
    "from DecentralElect.utils import bytes_to_int, pkeys_type_transform\n",
    "from DecentralElect import LinkableRingSignature\n",
    "from DecentralElect import ecc_Signature\n",
    "import random \n",
    "import string\n",
    "\n",
    "def generate_random_strings(num_strings:int, leading_numbers:list[int]):\n",
    "    random_strings = []\n",
    "\n",
    "    for _ in range(num_strings):\n",
    "        leading_number = random.choice(leading_numbers)\n",
    "        \n",
    "        rest_of_string = ''.join(random.choices(string.ascii_letters + string.digits, k=20))\n",
    "    \n",
    "        random_string = str(leading_number) + rest_of_string\n",
    "        random_strings.append(random_string)\n",
    "\n",
    "    return random_strings\n",
    "\n",
    "voting_list = register_list\n",
    "voting_list[0]['vote'] = generate_random_strings(10, [0 ,1, 2, 3, 4])\n",
    "# voting_list[1]['vote'] = generate_random_strings(20, [0 ,1, 2, 3, 4])\n",
    "# voting_list[2]['vote'] = generate_random_strings(30, [0 ,1, 2, 3, 4])\n",
    "# voting_list[3]['vote'] = generate_random_strings(40, [0 ,1, 2, 3, 4])\n",
    "# voting_list[4]['vote'] = generate_random_strings(50, [0 ,1, 2, 3, 4])\n",
    "\n",
    "for election in voting_list:\n",
    "    vs.start_vote(election['id'])\n",
    "    print('Status:', vs.get_status(election['id']))\n",
    "\n",
    "    for ballot, voter in zip(election['vote'], election['registers']):\n",
    "        hash_ballot = hash_vote(ballot)\n",
    "        signature = ecc_Signature(voter.private_key, hash_ballot)\n",
    "\n",
    "        vs.vote(election['id'], voter.public_key, hash_ballot, signature)\n",
    "\n",
    "        if (vs.check_if_voted(election['id'], voter.public_key)):\n",
    "            print('Voted')\n",
    "        else:\n",
    "            print(\"Unvoted\")\n"
   ]
  },
  {
   "cell_type": "code",
   "execution_count": 7,
   "metadata": {},
   "outputs": [
    {
     "name": "stdout",
     "output_type": "stream",
     "text": [
      "Voted\n"
     ]
    }
   ],
   "source": [
    "hash_ballot = NaiiveElectContract.hash_vote('2_apple')\n",
    "v = voting_list[0]['registers'][6]\n",
    "identifier = 0\n",
    "\n",
    "signature = ecc_Signature(v.private_key, hash_ballot)\n",
    "\n",
    "vs.vote(election['id'], v.public_key, hash_ballot, signature)\n",
    "\n",
    "\n",
    "if (vs.check_if_voted(election['id'], v.public_key)):\n",
    "    print('Voted')\n",
    "else:\n",
    "    print(\"UnVoted\")\n"
   ]
  },
  {
   "cell_type": "code",
   "execution_count": 8,
   "metadata": {},
   "outputs": [],
   "source": [
    "# verify ballot\n",
    "\n",
    "result_list = voting_list\n",
    "\n",
    "for election in result_list:\n",
    "    vs.stop_vote(election['id'])\n",
    "\n",
    "    # ballots = vs.get_ballots(election['id'])\n",
    "\n",
    "    for ballot in election['vote']:\n",
    "        vs.verify_ballot(election['id'], ballot)"
   ]
  },
  {
   "cell_type": "code",
   "execution_count": 9,
   "metadata": {},
   "outputs": [
    {
     "name": "stdout",
     "output_type": "stream",
     "text": [
      "(0, 'Apple', 'Red', 2)\n",
      "(1, 'Grape', 'Purple', 1)\n",
      "(2, 'Orange', 'Orange', 2)\n",
      "(3, 'Guava', 'Green', 3)\n",
      "(4, 'Banana', 'Yellow', 0)\n"
     ]
    }
   ],
   "source": [
    "# Show result\n",
    "\n",
    "for election in result_list:\n",
    "    candidates = vs.get_candidates(election['id'])\n",
    "    for candidate in candidates:\n",
    "        print(candidate)"
   ]
  },
  {
   "cell_type": "code",
   "execution_count": 10,
   "metadata": {},
   "outputs": [
    {
     "name": "stdout",
     "output_type": "stream",
     "text": [
      "Total Gas Spend: 10612768\n",
      "Manager Gas Spend: 7419870 0.7\n",
      "Voter Gas Spend: 3192898 0.3\n"
     ]
    }
   ],
   "source": [
    "total_gas_spend =  vs.manager_gas_spend + vs.voter_gas_spend\n",
    "print(\"Total Gas Spend:\", total_gas_spend)\n",
    "print(\"Manager Gas Spend:\", vs.manager_gas_spend, round(vs.manager_gas_spend/total_gas_spend, 2))\n",
    "print(\"Voter Gas Spend:\", vs.voter_gas_spend,round(vs.voter_gas_spend/total_gas_spend, 2))\n"
   ]
  }
 ],
 "metadata": {
  "kernelspec": {
   "display_name": "badminton",
   "language": "python",
   "name": "python3"
  },
  "language_info": {
   "codemirror_mode": {
    "name": "ipython",
    "version": 3
   },
   "file_extension": ".py",
   "mimetype": "text/x-python",
   "name": "python",
   "nbconvert_exporter": "python",
   "pygments_lexer": "ipython3",
   "version": "3.10.14"
  }
 },
 "nbformat": 4,
 "nbformat_minor": 2
}
